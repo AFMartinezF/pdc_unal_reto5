{
  "nbformat": 4,
  "nbformat_minor": 0,
  "metadata": {
    "colab": {
      "provenance": []
    },
    "kernelspec": {
      "name": "python3",
      "display_name": "Python 3"
    },
    "language_info": {
      "name": "python"
    }
  },
  "cells": [
    {
      "cell_type": "markdown",
      "source": [
        "1. Dado la figura de la imagen, desarrolle:\n",
        "\n",
        "<div align='center'>\n",
        "<figure> <img src=\"https://i.postimg.cc/FRvCmpxx/image.png\" alt=\"\" width=\"400\" height=\"auto\"/></br>\n",
        "<figcaption><b></b></figcaption></figure>\n",
        "</div>\n",
        "\n",
        "+ Una función matemática para calcular el volumen y el área superficial.\n",
        "+ Cree dos funciones en python para calcular los valores antes establecidos, al ingresar por teclado `r1`, `r2` y `h`.\n",
        "+ Revise como utilizar el valor de `pi` usando *import math* y *math.pi*\n"
      ],
      "metadata": {
        "id": "1FaS643fVkQd"
      }
    },
    {
      "cell_type": "code",
      "execution_count": 1,
      "metadata": {
        "colab": {
          "base_uri": "https://localhost:8080/"
        },
        "id": "vQTGwnCRU-GD",
        "outputId": "58f3b966-fc82-43b2-c395-726a3eb50426"
      },
      "outputs": [
        {
          "output_type": "stream",
          "name": "stdout",
          "text": [
            "Ingrese el radio de la esfera: 2\n",
            "Ingrese el radio de la base del cono: 1\n",
            "Ingrese la altura del cono: 1\n",
            "El volumen total es: 34.56\n",
            "El área superficial total es: 57.85\n"
          ]
        }
      ],
      "source": [
        "import math\n",
        "\n",
        "def calcular_volumen(r1,r2, h):\n",
        "    \"\"\"\n",
        "    Calcula el volumen de una esfera y un cono.\n",
        "\n",
        "    Args:\n",
        "        r1 (float): Radio de la esfera\n",
        "        r2 (float): Radio de la base del cono\n",
        "        h (float): Altura del cono\n",
        "\n",
        "    Returns:\n",
        "        float: Suma del volumen de la esfera y el cono\n",
        "    \"\"\"\n",
        "\n",
        "    volumen_esfera = (4/3) * math.pi * (r1 ** 3)\n",
        "    volumen_cono = (1/3) * math.pi * (r2 ** 2) * h\n",
        "    return volumen_esfera + volumen_cono\n",
        "\n",
        "def calcular_area_superficial(r1,r2, h):\n",
        "    \"\"\"\n",
        "    Calcula el área superficial de una esfera y un cono.\n",
        "\n",
        "    Args:\n",
        "        r1 (float): Radio de la esfera\n",
        "        r2 (float): Radio de la base del cono\n",
        "        h (float): Altura del cono\n",
        "\n",
        "    Returns:\n",
        "        float: Suma del área superficial de la esfera y el cono\n",
        "    \"\"\"\n",
        "\n",
        "    area_esfera = 4 * math.pi * (r1 ** 2)\n",
        "    area_cono = math.pi * r2 * (r2 + math.sqrt(h**2 + r2**2))\n",
        "    return area_esfera + area_cono\n",
        "\n",
        "def main():\n",
        "    # Ingresar el radio de la esfera\n",
        "    r1 = float(input(\"Ingrese el radio de la esfera: \"))\n",
        "\n",
        "    # Ingresar el radio de la base del cono y su altura\n",
        "    r2 = float(input(\"Ingrese el radio de la base del cono: \"))\n",
        "    h = float(input(\"Ingrese la altura del cono: \"))\n",
        "\n",
        "    #Calcular el volumen de los elementos\n",
        "    volumen = calcular_volumen(r1,r2, h)\n",
        "    print(f\"El volumen total es: {volumen:.2f}\")\n",
        "\n",
        "    #Calcular el área superficial de los elementos\n",
        "    area_superficial = calcular_area_superficial(r1,r2, h)\n",
        "    print(f\"El área superficial total es: {area_superficial:.2f}\")\n",
        "\n",
        "if __name__ == \"__main__\":\n",
        "    main()\n"
      ]
    },
    {
      "cell_type": "markdown",
      "source": [
        "\n",
        "2. Dado la figura de la imagen, desarrolle:\n",
        "\n",
        "<div align='center'>\n",
        "<figure> <img src=\"https://i.postimg.cc/1t4MrzsL/image.png\" alt=\"\" width=\"400\" height=\"auto\"/></br>\n",
        "<figcaption><b></b></figcaption></figure>\n",
        "</div>\n",
        "\n",
        "+ Una función matemática para calcular el área y el perimetro.\n",
        "+ Cree dos funciones en python para calcular los valores antes establecidos, al ingresar por teclado `r`, `a` y `b`.\n",
        "+ Revise como utilizar el valor de `pi` usando *import math* y *math.pi*"
      ],
      "metadata": {
        "id": "FwME2yH4Yn4j"
      }
    },
    {
      "cell_type": "code",
      "source": [
        "import math\n",
        "\n",
        "def calcular_area(r, a, b):\n",
        "    \"\"\"\n",
        "    Calcula el área de dos circulos y un rectángulo.\n",
        "\n",
        "    Args:\n",
        "        r (float): Radio de los circulos\n",
        "        a (float): Ancho del rectángulo\n",
        "        b (float): Altura del rectángulo\n",
        "\n",
        "    Returns:\n",
        "        float: Suma del área de los circulos y el rectángulo\n",
        "    \"\"\"\n",
        "\n",
        "    area_circulo = math.pi * (r ** 2)\n",
        "    area_rectangulo = a * b\n",
        "    return 2*area_circulo + area_rectangulo\n",
        "\n",
        "def calcular_perimetro(r, a, b):\n",
        "    \"\"\"\n",
        "    Calcula el perímetro de dos circulos y un rectángulo.\n",
        "\n",
        "    Args:\n",
        "        r (float): Radio de los circulos\n",
        "        a (float): Ancho del rectángulo\n",
        "        b (float): Altura del rectángulo\n",
        "\n",
        "    Returns:\n",
        "        float: Suma del perímetro de los circulos y el rectángulo\n",
        "    \"\"\"\n",
        "    perimetro_circulo = 2 * math.pi * r\n",
        "    perimetro_rectangulo = 2 * (a + b)\n",
        "    return 2*perimetro_circulo + perimetro_rectangulo\n",
        "\n",
        "if __name__ == \"__main__\":\n",
        "    #Ingresa el radio de los circulos\n",
        "    r = float(input(\"Ingrese el radio de los circulos: \"))\n",
        "\n",
        "    #Ingresa el ancho y altura del rectangulo\n",
        "    a = float(input(\"Ingrese el ancho del rectangulo: \"))\n",
        "    b = float(input(\"Ingrese la altura del rectangulo: \"))\n",
        "\n",
        "    #Calcula el área\n",
        "    area = calcular_area(r, a, b)\n",
        "    print(f\"El área total es: {area:.2f}\")\n",
        "\n",
        "    #Calcula el perimetro\n",
        "    perimetro = calcular_perimetro(r, a, b)\n",
        "    print(f\"El perímetro total es: {perimetro:.2f}\")"
      ],
      "metadata": {
        "colab": {
          "base_uri": "https://localhost:8080/"
        },
        "id": "nGB2LjY7Yt0B",
        "outputId": "61a1b261-3e6e-420e-f6b0-f9929f32b223"
      },
      "execution_count": 3,
      "outputs": [
        {
          "output_type": "stream",
          "name": "stdout",
          "text": [
            "Ingrese el radio de los circulos: 1\n",
            "Ingrese el ancho del rectangulo: 1\n",
            "Ingrese la altura del rectangulo: 1\n",
            "El área total es: 7.28\n",
            "El perímetro total es: 16.57\n"
          ]
        }
      ]
    },
    {
      "cell_type": "markdown",
      "source": [
        "3. Diseñe una función que calcule la cantidad de carne de aves en kilos si se tienen N gallinas, M gallos y K pollitos cada uno pesando 6 kilos, 7 kilos y 1 kilo respectivamente."
      ],
      "metadata": {
        "id": "ehCGs4-faQgc"
      }
    },
    {
      "cell_type": "code",
      "source": [
        "def calcular_carne_aves(N, M, K):\n",
        "    \"\"\"\n",
        "    Calcula la cantidad total de carne de aves en kilos basado en los números de gallinas, gallos y pollitos dados.\n",
        "\n",
        "    Args:\n",
        "        N (int): Número de gallinas\n",
        "        M (int): Número de gallos\n",
        "        K (int): Número de pollitos\n",
        "\n",
        "    Returns:\n",
        "        float: Cantidad total de carne en kilos\n",
        "    \"\"\"\n",
        "    peso_gallina = 6  # kilos\n",
        "    peso_gallo = 7   # kilos\n",
        "    peso_pollito = 1 # kilo\n",
        "\n",
        "    total_carne = (\n",
        "        N * peso_gallina +\n",
        "        M * peso_gallo +\n",
        "        K * peso_pollito\n",
        "    )\n",
        "\n",
        "    return total_carne\n",
        "\n",
        "if __name__ == \"__main__\":\n",
        "    #Ejemplo de uso de la función con 3 gallinas, 4 gallos y 0 pollitos\n",
        "    N = 3\n",
        "    M = 4\n",
        "    K = 0\n",
        "    total_carne = calcular_carne_aves(N, M, K)\n",
        "    print(f\"La cantidad total de carne de aves es: {total_carne} kilos\")\n"
      ],
      "metadata": {
        "colab": {
          "base_uri": "https://localhost:8080/"
        },
        "id": "ijMNpvFcaWbG",
        "outputId": "34fc5f1c-7be9-4d4f-c521-f11f4f6a2bc9"
      },
      "execution_count": 4,
      "outputs": [
        {
          "output_type": "stream",
          "name": "stdout",
          "text": [
            "La cantidad total de carne de aves es: 46 kilos\n"
          ]
        }
      ]
    },
    {
      "cell_type": "markdown",
      "source": [
        "4. Haga un programa que utilice una función para calcular el valor de un préstamo `C` usando interés compuesto del `i` por `n` meses."
      ],
      "metadata": {
        "id": "8qyrtoJCa5_H"
      }
    },
    {
      "cell_type": "code",
      "source": [
        "def valor_prestamo(C, i, n):\n",
        "    \"\"\"\n",
        "    Calcula el valor final de un préstamo utilizando interés compuesto mensual.\n",
        "\n",
        "    Args:\n",
        "        C (float): Monto del préstamo\n",
        "        i (float): Tasa de interés anual\n",
        "        n (int): Número de meses\n",
        "\n",
        "    Returns:\n",
        "        float: Valor final del préstamo\n",
        "    \"\"\"\n",
        "    valor_final = C * (1 + (i/100)) ** (n/12)\n",
        "    return valor_final\n",
        "\n",
        "if __name__ == \"__main__\":\n",
        "    C = float(input(\"Ingrese el monto del préstamo (C): \"))\n",
        "    i = float(input(\"Ingrese la tasa de interés anual (i) en %: \"))\n",
        "    n = int(input(\"Ingrese el plazo en meses (n): \"))\n",
        "\n",
        "    valor_final = valor_prestamo(C, i, n)\n",
        "    print(f\"El valor final del préstamo es: {valor_final:.2f}\")\n"
      ],
      "metadata": {
        "colab": {
          "base_uri": "https://localhost:8080/"
        },
        "id": "6pawFCGobGhg",
        "outputId": "193d6901-cfba-4447-f02e-a61656e58d26"
      },
      "execution_count": 11,
      "outputs": [
        {
          "output_type": "stream",
          "name": "stdout",
          "text": [
            "Ingrese el monto del préstamo (C): 100\n",
            "Ingrese la tasa de interés anual (i) en %: 10\n",
            "Ingrese el plazo en meses (n): 24\n",
            "El valor final del préstamo es: 121.00\n"
          ]
        }
      ]
    },
    {
      "cell_type": "markdown",
      "source": [
        "5. Escriba un programa que pida 5 números reales y calcule las siguientes operaciones usando una función para cada una:\n",
        "  + El promedio\n",
        "  + El promedio multiplicativo (multilplica todos y luego calcula la raíz de la cantidad de operandos)\n",
        "  + La potencia del mayor número elevado al menor número\n",
        "  + La raíz cúbica del menor número"
      ],
      "metadata": {
        "id": "-0EvyZMVdRli"
      }
    },
    {
      "cell_type": "code",
      "source": [
        "import math\n",
        "\n",
        "def calcular_promedio_aritmético(numeros):\n",
        "    return sum(numeros) / len(numeros)\n",
        "\n",
        "def calcular_promedio_geométrico(numeros):\n",
        "    producto = math.prod(numeros)\n",
        "    return round(producto ** (1/len(numeros)), 4)\n",
        "\n",
        "def calcular_potencia_menor_mayor(numeros):\n",
        "    menor = min(numeros)\n",
        "    mayor = max(numeros)\n",
        "    return menor * mayor\n",
        "\n",
        "def calcular_raíz_cúbica_menor(numeros):\n",
        "    return min(numeros) ** (1/3)\n",
        "\n",
        "\n",
        "if __name__ == \"__main__\":\n",
        "\n",
        "    numeros = [float(num) for num in input(\"Ingrese 5 números reales separados por espacios: \").split()]\n",
        "    print(f\"Promedio aritmético: {calcular_promedio_aritmético(numeros)}\")\n",
        "    print(f\"Promedio geométrico: {calcular_promedio_geométrico(numeros)}\")\n",
        "    print(f\"Potencia del mayor número elevado al menor número: {calcular_potencia_menor_mayor(numeros)}\")\n",
        "    print(f\"Raíz cúbica del menor número: {calcular_raíz_cúbica_menor(numeros)}\")"
      ],
      "metadata": {
        "colab": {
          "base_uri": "https://localhost:8080/"
        },
        "id": "6SmSrQETdU7n",
        "outputId": "ddc51d70-9e1d-4430-cb26-6fd227f983be"
      },
      "execution_count": 13,
      "outputs": [
        {
          "output_type": "stream",
          "name": "stdout",
          "text": [
            "Ingrese 5 números reales separados por espacios: 1 2 1 1 1\n",
            "Promedio aritmético: 1.2\n",
            "Promedio geométrico: 1.1487\n",
            "Potencia del mayor número elevado al menor número: 2.0\n",
            "Raíz cúbica del menor número: 1.0\n"
          ]
        }
      ]
    },
    {
      "cell_type": "markdown",
      "source": [
        "Puntos 6 y 7 en el README :)"
      ],
      "metadata": {
        "id": "pzYdizkFeEJf"
      }
    }
  ]
}